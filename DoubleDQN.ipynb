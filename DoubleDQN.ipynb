{
 "cells": [
  {
   "cell_type": "code",
   "execution_count": 3,
   "id": "e5abd20f-964a-4f3f-bfef-4404dca68ee4",
   "metadata": {},
   "outputs": [
    {
     "name": "stdout",
     "output_type": "stream",
     "text": [
      "pygame 2.1.2 (SDL 2.0.18, Python 3.9.7)\n",
      "Hello from the pygame community. https://www.pygame.org/contribute.html\n"
     ]
    }
   ],
   "source": [
    "%matplotlib inline\n",
    "import pygame\n",
    "import gym\n",
    "import numpy as np\n",
    "import matplotlib.pyplot as plt\n",
    "import random\n",
    "from IPython import display\n",
    "from tensorflow import keras\n",
    "import math\n",
    "import time\n",
    "import tensorflow as tf"
   ]
  },
  {
   "cell_type": "code",
   "execution_count": 22,
   "id": "e02c3e29-8929-41eb-a203-36a7a7bd3ced",
   "metadata": {},
   "outputs": [],
   "source": [
    "class DoubleUtil:\n",
    "    def __init__(self, _decaysteps = 50, _decayrate = 0.9, max_history = 10000, batch_size = 200, tau = 0.08):\n",
    "        self.optimizer = tf.keras.optimizers.Adam(learning_rate = tf.keras.optimizers.schedules.ExponentialDecay(0.01, decay_steps = _decaysteps, decay_rate = _decayrate))\n",
    "        self.max_history = max_history\n",
    "        self.replay_history = []\n",
    "        self.current_experience = 0\n",
    "        self.batch_size = batch_size\n",
    "        self.tau = tau\n",
    "        \n",
    "    def save_experience(self, current_state, action, reward, next_state):\n",
    "        if self.current_experience < self.max_history:            \n",
    "            self.replay_history.append([current_state, action, reward, next_state])\n",
    "        else:\n",
    "            self.replay_history[self.current_experience % self.max_history] = [current_state, action, reward, next_state]\n",
    "        self.current_experience += 1\n",
    "    \n",
    "    def sample_from_experience(self):\n",
    "        if self.current_experience >= self.batch_size:\n",
    "            batch = random.sample(self.replay_history, self.batch_size)\n",
    "        else:\n",
    "            batch = random.sample(self.replay_history, len(self.replay_history))\n",
    "        return batch\n",
    "    \n",
    "    \n",
    "    def double_td_loss(self, online_nn, target_nn, discount = 0.99):\n",
    "        #use online network to evaluate greedy policy and the target for calue estimation\n",
    "        loss = []\n",
    "        #BINARY BECAUSE THE ACTION SPACE IS ONLY 0 OR 1\n",
    "        sampled_experiences = self.sample_from_experience()\n",
    "        random.shuffle(sampled_experiences)\n",
    "        for current_state, action, reward, next_state in sampled_experiences:\n",
    "            b_action = [0.0] * online_nn.output.shape[1]\n",
    "            onn_next_act = tf.math.argmax(tf.reshape(online(tf.convert_to_tensor([next_state])), [-1])).numpy() \n",
    "            b_action[onn_next_act] = 1.0\n",
    "            b_action = tf.constant([b_action])\n",
    "            \n",
    "            tnn_next = tf.math.reduce_max(target_nn(tf.convert_to_tensor([next_state])))\n",
    "            onn_current = online_nn(tf.convert_to_tensor([current_state]))           \n",
    "            \n",
    "            #get current Q value from network\n",
    "            #current_q = nn(tf.convert_to_tensor([current_state]))\n",
    "            loss.append(tf.math.square((reward + discount * tnn_next - onn_current) * b_action))\n",
    "        return tf.math.reduce_mean(loss, axis=0)\n",
    "        \n",
    "    def update_double_model(self, online, target):\n",
    "        with tf.GradientTape() as tape:\n",
    "            loss = self.double_td_loss(online, target)\n",
    "            grads = tape.gradient(loss, online.trainable_variables)\n",
    "            self.optimizer.apply_gradients(zip(grads, online.trainable_variables))\n",
    "            return loss\n",
    "            \n",
    "    def update_target_weights(self, online, target):\n",
    "        target.set_weights(online.get_weights())"
   ]
  },
  {
   "cell_type": "code",
   "execution_count": 19,
   "id": "c20e8b1e-03db-47ed-a644-27017d543924",
   "metadata": {},
   "outputs": [],
   "source": [
    "class DA:\n",
    "    def __init__(self, obs_shape, act_size):\n",
    "        self.obs_shape = obs_shape\n",
    "        self.act_size = act_size\n",
    "    def network (self, train = True, node_size = 64, a_function = tf.keras.layers.LeakyReLU()):\n",
    "        inputs = tf.keras.Input(shape=(self.obs_shape,),name=\"input\")\n",
    "        x = tf.keras.layers.Dense(node_size, activation=a_function,name=\"dense_1\")(inputs)\n",
    "        x = tf.keras.layers.Dense(node_size, activation=a_function,name=\"dense_2\")(x)\n",
    "        outputs = tf.keras.layers.Dense(self.act_size, name=\"output\")(x)\n",
    "        online = tf.keras.models.Model(inputs = inputs, outputs=outputs, name=\"online_nn\", trainable=train)\n",
    "        \n",
    "        inputs_t = tf.keras.Input(shape=(self.obs_shape,),name=\"input\")\n",
    "        x_t = tf.keras.layers.Dense(node_size, activation=a_function,name=\"dense_1\")(inputs_t)\n",
    "        x_t = tf.keras.layers.Dense(node_size, activation=a_function,name=\"dense_2\")(x_t)\n",
    "        outputs_t = tf.keras.layers.Dense(self.act_size, name=\"output\")(x_t)\n",
    "        target = tf.keras.models.Model(inputs = inputs_t, outputs=outputs_t, name=\"target_nn\", trainable=train)        \n",
    "        return online, target\n"
   ]
  },
  {
   "cell_type": "code",
   "execution_count": 20,
   "id": "432b4959-81d8-47fb-a838-7781a98dc4af",
   "metadata": {},
   "outputs": [],
   "source": [
    "env = gym.make('CartPole-v1')\n",
    "online, target = DA(4,2).network(node_size = 128)\n",
    "util = DoubleUtil(batch_size=128)\n",
    "e = 1\n",
    "max_e = 1\n",
    "min_e = 0.01\n",
    "i, early_stop = 0,0\n",
    "number_of_episodes = 2000\n",
    "tau = 20\n",
    "update_target = 150\n",
    "rewards = []\n",
    "avg_losses = []\n",
    "total_iterations = 0\n",
    "while i < number_of_episodes:\n",
    "    current_state = env.reset()\n",
    "    step = 0\n",
    "    avg_loss = 0\n",
    "    while True:\n",
    "        total_iterations += 1\n",
    "        r = np.random.uniform()\n",
    "        #EXPLORATION VS EXPLOITATION\n",
    "        if r < e:\n",
    "            action = env.action_space.sample()\n",
    "        else:\n",
    "            #sample action from the network by picking highest output from the nn, convert to numpy\n",
    "            #if swap:\n",
    "                #action = tf.math.argmax(tf.reshape(target(tf.convert_to_tensor([current_state])), [-1])).numpy()\n",
    "            #else:\n",
    "            action = tf.math.argmax(tf.reshape(online(tf.convert_to_tensor([current_state])), [-1])).numpy()\n",
    "        next_state, reward, done, info = env.step(action)\n",
    "        step+=1\n",
    "        util.save_experience(current_state, action, reward, next_state)\n",
    "        \n",
    "        if(total_iterations % tau) == 0:\n",
    "            avg_loss += np.mean(util.update_double_model(online, target))\n",
    "        \n",
    "        current_state = next_state\n",
    "        \n",
    "        if(total_iterations % update_target) == 0:\n",
    "            util.update_target_weights(online,target)\n",
    "        #e decay\n",
    "        \n",
    "        e = max(e * 0.99, min_e)\n",
    "        if done:\n",
    "            avg_losses.append(avg_loss)\n",
    "            rewards.append(step)\n",
    "            i+=1\n",
    "            if step >= 500:\n",
    "                early_stop+=1\n",
    "            else:\n",
    "                early_stop = 0\n",
    "            if early_stop >= 10:\n",
    "                i = number_of_episodes\n",
    "            break"
   ]
  },
  {
   "cell_type": "code",
   "execution_count": 21,
   "id": "32c3dc37-bcd8-42f6-9dab-22604c8c63c1",
   "metadata": {},
   "outputs": [
    {
     "data": {
      "text/plain": [
       "<Figure size 432x288 with 0 Axes>"
      ]
     },
     "metadata": {},
     "output_type": "display_data"
    },
    {
     "data": {
      "image/png": "[encoded data removed]",
      "text/plain": [
       "<Figure size 432x288 with 2 Axes>"
      ]
     },
     "metadata": {
      "needs_background": "light"
     },
     "output_type": "display_data"
    }
   ],
   "source": [
    "fig = plt.figure()\n",
    "fig = plt.figure()\n",
    "ax1 = fig.add_subplot(1,2,1)    \n",
    "ax2 = fig.add_subplot(1,2,2)\n",
    "ax1.plot(np.arange(len(rewards)),rewards,c='g')\n",
    "ax1.set_title(\"Rewards\")\n",
    "ax1.set_ylabel(\"Rewards\")\n",
    "ax1.set_xlabel(\"Episodes\")\n",
    "ax2.plot(np.arange(len(avg_losses)), avg_losses, c='g')\n",
    "\n",
    "ax2.set_title(\"Average Loss\")\n",
    "ax2.set_ylabel(\"Loss\")\n",
    "ax2.set_xlabel(\"Steps Taken\")\n",
    "fig.suptitle(\"Double Deep Q-Network\")\n",
    "fig.savefig('figures/ddqn_2')"
   ]
  }
 ],
 "metadata": {
  "kernelspec": {
   "display_name": "Python 3 (ipykernel)",
   "language": "python",
   "name": "python3"
  },
  "language_info": {
   "codemirror_mode": {
    "name": "ipython",
    "version": 3
   },
   "file_extension": ".py",
   "mimetype": "text/x-python",
   "name": "python",
   "nbconvert_exporter": "python",
   "pygments_lexer": "ipython3",
   "version": "3.9.7"
  }
 },
 "nbformat": 4,
 "nbformat_minor": 5
}
